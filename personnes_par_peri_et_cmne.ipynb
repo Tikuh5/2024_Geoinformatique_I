{
  "nbformat": 4,
  "nbformat_minor": 0,
  "metadata": {
    "colab": {
      "provenance": [],
      "authorship_tag": "ABX9TyPo2hcH2HW5K58nhx2xTU2V",
      "include_colab_link": true
    },
    "kernelspec": {
      "name": "python3",
      "display_name": "Python 3"
    },
    "language_info": {
      "name": "python"
    }
  },
  "cells": [
    {
      "cell_type": "markdown",
      "metadata": {
        "id": "view-in-github",
        "colab_type": "text"
      },
      "source": [
        "<a href=\"https://colab.research.google.com/github/Tikuh5/2024_Geoinformatique_I/blob/main/personnes_par_peri_et_cmne.ipynb\" target=\"_parent\"><img src=\"https://colab.research.google.com/assets/colab-badge.svg\" alt=\"Open In Colab\"/></a>"
      ]
    },
    {
      "cell_type": "code",
      "source": [
        "## Installation Pandas\n",
        "\n",
        "!pip install pandas\n",
        "import pandas as pd"
      ],
      "metadata": {
        "id": "7mSQ1zXmmKmk",
        "colab": {
          "base_uri": "https://localhost:8080/"
        },
        "outputId": "8c62cb56-aa8b-4176-ec7e-c833ca0631e5"
      },
      "execution_count": null,
      "outputs": [
        {
          "output_type": "stream",
          "name": "stdout",
          "text": [
            "Requirement already satisfied: pandas in /usr/local/lib/python3.10/dist-packages (2.2.2)\n",
            "Requirement already satisfied: numpy>=1.22.4 in /usr/local/lib/python3.10/dist-packages (from pandas) (1.26.4)\n",
            "Requirement already satisfied: python-dateutil>=2.8.2 in /usr/local/lib/python3.10/dist-packages (from pandas) (2.8.2)\n",
            "Requirement already satisfied: pytz>=2020.1 in /usr/local/lib/python3.10/dist-packages (from pandas) (2024.2)\n",
            "Requirement already satisfied: tzdata>=2022.7 in /usr/local/lib/python3.10/dist-packages (from pandas) (2024.2)\n",
            "Requirement already satisfied: six>=1.5 in /usr/local/lib/python3.10/dist-packages (from python-dateutil>=2.8.2->pandas) (1.17.0)\n"
          ]
        }
      ]
    },
    {
      "cell_type": "code",
      "source": [
        "## Installation GeoPandas\n",
        "\n",
        "!pip install geopandas\n",
        "import geopandas as gpd"
      ],
      "metadata": {
        "colab": {
          "base_uri": "https://localhost:8080/"
        },
        "id": "TB6FZUFLhlWE",
        "outputId": "11e97865-497e-458f-fdd5-06b51eb3b123"
      },
      "execution_count": null,
      "outputs": [
        {
          "output_type": "stream",
          "name": "stdout",
          "text": [
            "Requirement already satisfied: geopandas in /usr/local/lib/python3.10/dist-packages (1.0.1)\n",
            "Requirement already satisfied: numpy>=1.22 in /usr/local/lib/python3.10/dist-packages (from geopandas) (1.26.4)\n",
            "Requirement already satisfied: pyogrio>=0.7.2 in /usr/local/lib/python3.10/dist-packages (from geopandas) (0.10.0)\n",
            "Requirement already satisfied: packaging in /usr/local/lib/python3.10/dist-packages (from geopandas) (24.2)\n",
            "Requirement already satisfied: pandas>=1.4.0 in /usr/local/lib/python3.10/dist-packages (from geopandas) (2.2.2)\n",
            "Requirement already satisfied: pyproj>=3.3.0 in /usr/local/lib/python3.10/dist-packages (from geopandas) (3.7.0)\n",
            "Requirement already satisfied: shapely>=2.0.0 in /usr/local/lib/python3.10/dist-packages (from geopandas) (2.0.6)\n",
            "Requirement already satisfied: python-dateutil>=2.8.2 in /usr/local/lib/python3.10/dist-packages (from pandas>=1.4.0->geopandas) (2.8.2)\n",
            "Requirement already satisfied: pytz>=2020.1 in /usr/local/lib/python3.10/dist-packages (from pandas>=1.4.0->geopandas) (2024.2)\n",
            "Requirement already satisfied: tzdata>=2022.7 in /usr/local/lib/python3.10/dist-packages (from pandas>=1.4.0->geopandas) (2024.2)\n",
            "Requirement already satisfied: certifi in /usr/local/lib/python3.10/dist-packages (from pyogrio>=0.7.2->geopandas) (2024.12.14)\n",
            "Requirement already satisfied: six>=1.5 in /usr/local/lib/python3.10/dist-packages (from python-dateutil>=2.8.2->pandas>=1.4.0->geopandas) (1.17.0)\n"
          ]
        }
      ]
    },
    {
      "cell_type": "code",
      "source": [
        "## Installation Shapely\n",
        "\n",
        "!pip install shapely\n",
        "from shapely import unary_union"
      ],
      "metadata": {
        "colab": {
          "base_uri": "https://localhost:8080/"
        },
        "id": "KkMM0_EBhkxV",
        "outputId": "72ab1a79-b810-4609-e6f1-653c82f6b9fd"
      },
      "execution_count": null,
      "outputs": [
        {
          "output_type": "stream",
          "name": "stdout",
          "text": [
            "Requirement already satisfied: shapely in /usr/local/lib/python3.10/dist-packages (2.0.6)\n",
            "Requirement already satisfied: numpy<3,>=1.14 in /usr/local/lib/python3.10/dist-packages (from shapely) (1.26.4)\n"
          ]
        }
      ]
    },
    {
      "cell_type": "code",
      "source": [
        "## Installation Pyogrio\n",
        "\n",
        "!pip install pyogrio\n",
        "import pyogrio"
      ],
      "metadata": {
        "colab": {
          "base_uri": "https://localhost:8080/"
        },
        "id": "FaZGhQ-EhkZ9",
        "outputId": "524903ed-722c-477b-8e6a-4d12bc1f09f3"
      },
      "execution_count": null,
      "outputs": [
        {
          "output_type": "stream",
          "name": "stdout",
          "text": [
            "Requirement already satisfied: pyogrio in /usr/local/lib/python3.10/dist-packages (0.10.0)\n",
            "Requirement already satisfied: certifi in /usr/local/lib/python3.10/dist-packages (from pyogrio) (2024.12.14)\n",
            "Requirement already satisfied: numpy in /usr/local/lib/python3.10/dist-packages (from pyogrio) (1.26.4)\n",
            "Requirement already satisfied: packaging in /usr/local/lib/python3.10/dist-packages (from pyogrio) (24.2)\n"
          ]
        }
      ]
    },
    {
      "cell_type": "code",
      "source": [
        "## téléchargement de la zone d'étude\n",
        "\n",
        "from google.colab import files\n",
        "uploaded = files.upload()\n",
        "\n",
        "ze_gpkg = '/content/geoinf-proj-ze-3935.gpkg'"
      ],
      "metadata": {
        "id": "9qwVwycojQTX",
        "outputId": "141afb7f-bd35-4304-ee45-85ad5d350c67",
        "colab": {
          "base_uri": "https://localhost:8080/",
          "height": 74
        }
      },
      "execution_count": null,
      "outputs": [
        {
          "output_type": "display_data",
          "data": {
            "text/plain": [
              "<IPython.core.display.HTML object>"
            ],
            "text/html": [
              "\n",
              "     <input type=\"file\" id=\"files-9e7c85ce-893b-48e8-9b03-8922db5492f8\" name=\"files[]\" multiple disabled\n",
              "        style=\"border:none\" />\n",
              "     <output id=\"result-9e7c85ce-893b-48e8-9b03-8922db5492f8\">\n",
              "      Upload widget is only available when the cell has been executed in the\n",
              "      current browser session. Please rerun this cell to enable.\n",
              "      </output>\n",
              "      <script>// Copyright 2017 Google LLC\n",
              "//\n",
              "// Licensed under the Apache License, Version 2.0 (the \"License\");\n",
              "// you may not use this file except in compliance with the License.\n",
              "// You may obtain a copy of the License at\n",
              "//\n",
              "//      http://www.apache.org/licenses/LICENSE-2.0\n",
              "//\n",
              "// Unless required by applicable law or agreed to in writing, software\n",
              "// distributed under the License is distributed on an \"AS IS\" BASIS,\n",
              "// WITHOUT WARRANTIES OR CONDITIONS OF ANY KIND, either express or implied.\n",
              "// See the License for the specific language governing permissions and\n",
              "// limitations under the License.\n",
              "\n",
              "/**\n",
              " * @fileoverview Helpers for google.colab Python module.\n",
              " */\n",
              "(function(scope) {\n",
              "function span(text, styleAttributes = {}) {\n",
              "  const element = document.createElement('span');\n",
              "  element.textContent = text;\n",
              "  for (const key of Object.keys(styleAttributes)) {\n",
              "    element.style[key] = styleAttributes[key];\n",
              "  }\n",
              "  return element;\n",
              "}\n",
              "\n",
              "// Max number of bytes which will be uploaded at a time.\n",
              "const MAX_PAYLOAD_SIZE = 100 * 1024;\n",
              "\n",
              "function _uploadFiles(inputId, outputId) {\n",
              "  const steps = uploadFilesStep(inputId, outputId);\n",
              "  const outputElement = document.getElementById(outputId);\n",
              "  // Cache steps on the outputElement to make it available for the next call\n",
              "  // to uploadFilesContinue from Python.\n",
              "  outputElement.steps = steps;\n",
              "\n",
              "  return _uploadFilesContinue(outputId);\n",
              "}\n",
              "\n",
              "// This is roughly an async generator (not supported in the browser yet),\n",
              "// where there are multiple asynchronous steps and the Python side is going\n",
              "// to poll for completion of each step.\n",
              "// This uses a Promise to block the python side on completion of each step,\n",
              "// then passes the result of the previous step as the input to the next step.\n",
              "function _uploadFilesContinue(outputId) {\n",
              "  const outputElement = document.getElementById(outputId);\n",
              "  const steps = outputElement.steps;\n",
              "\n",
              "  const next = steps.next(outputElement.lastPromiseValue);\n",
              "  return Promise.resolve(next.value.promise).then((value) => {\n",
              "    // Cache the last promise value to make it available to the next\n",
              "    // step of the generator.\n",
              "    outputElement.lastPromiseValue = value;\n",
              "    return next.value.response;\n",
              "  });\n",
              "}\n",
              "\n",
              "/**\n",
              " * Generator function which is called between each async step of the upload\n",
              " * process.\n",
              " * @param {string} inputId Element ID of the input file picker element.\n",
              " * @param {string} outputId Element ID of the output display.\n",
              " * @return {!Iterable<!Object>} Iterable of next steps.\n",
              " */\n",
              "function* uploadFilesStep(inputId, outputId) {\n",
              "  const inputElement = document.getElementById(inputId);\n",
              "  inputElement.disabled = false;\n",
              "\n",
              "  const outputElement = document.getElementById(outputId);\n",
              "  outputElement.innerHTML = '';\n",
              "\n",
              "  const pickedPromise = new Promise((resolve) => {\n",
              "    inputElement.addEventListener('change', (e) => {\n",
              "      resolve(e.target.files);\n",
              "    });\n",
              "  });\n",
              "\n",
              "  const cancel = document.createElement('button');\n",
              "  inputElement.parentElement.appendChild(cancel);\n",
              "  cancel.textContent = 'Cancel upload';\n",
              "  const cancelPromise = new Promise((resolve) => {\n",
              "    cancel.onclick = () => {\n",
              "      resolve(null);\n",
              "    };\n",
              "  });\n",
              "\n",
              "  // Wait for the user to pick the files.\n",
              "  const files = yield {\n",
              "    promise: Promise.race([pickedPromise, cancelPromise]),\n",
              "    response: {\n",
              "      action: 'starting',\n",
              "    }\n",
              "  };\n",
              "\n",
              "  cancel.remove();\n",
              "\n",
              "  // Disable the input element since further picks are not allowed.\n",
              "  inputElement.disabled = true;\n",
              "\n",
              "  if (!files) {\n",
              "    return {\n",
              "      response: {\n",
              "        action: 'complete',\n",
              "      }\n",
              "    };\n",
              "  }\n",
              "\n",
              "  for (const file of files) {\n",
              "    const li = document.createElement('li');\n",
              "    li.append(span(file.name, {fontWeight: 'bold'}));\n",
              "    li.append(span(\n",
              "        `(${file.type || 'n/a'}) - ${file.size} bytes, ` +\n",
              "        `last modified: ${\n",
              "            file.lastModifiedDate ? file.lastModifiedDate.toLocaleDateString() :\n",
              "                                    'n/a'} - `));\n",
              "    const percent = span('0% done');\n",
              "    li.appendChild(percent);\n",
              "\n",
              "    outputElement.appendChild(li);\n",
              "\n",
              "    const fileDataPromise = new Promise((resolve) => {\n",
              "      const reader = new FileReader();\n",
              "      reader.onload = (e) => {\n",
              "        resolve(e.target.result);\n",
              "      };\n",
              "      reader.readAsArrayBuffer(file);\n",
              "    });\n",
              "    // Wait for the data to be ready.\n",
              "    let fileData = yield {\n",
              "      promise: fileDataPromise,\n",
              "      response: {\n",
              "        action: 'continue',\n",
              "      }\n",
              "    };\n",
              "\n",
              "    // Use a chunked sending to avoid message size limits. See b/62115660.\n",
              "    let position = 0;\n",
              "    do {\n",
              "      const length = Math.min(fileData.byteLength - position, MAX_PAYLOAD_SIZE);\n",
              "      const chunk = new Uint8Array(fileData, position, length);\n",
              "      position += length;\n",
              "\n",
              "      const base64 = btoa(String.fromCharCode.apply(null, chunk));\n",
              "      yield {\n",
              "        response: {\n",
              "          action: 'append',\n",
              "          file: file.name,\n",
              "          data: base64,\n",
              "        },\n",
              "      };\n",
              "\n",
              "      let percentDone = fileData.byteLength === 0 ?\n",
              "          100 :\n",
              "          Math.round((position / fileData.byteLength) * 100);\n",
              "      percent.textContent = `${percentDone}% done`;\n",
              "\n",
              "    } while (position < fileData.byteLength);\n",
              "  }\n",
              "\n",
              "  // All done.\n",
              "  yield {\n",
              "    response: {\n",
              "      action: 'complete',\n",
              "    }\n",
              "  };\n",
              "}\n",
              "\n",
              "scope.google = scope.google || {};\n",
              "scope.google.colab = scope.google.colab || {};\n",
              "scope.google.colab._files = {\n",
              "  _uploadFiles,\n",
              "  _uploadFilesContinue,\n",
              "};\n",
              "})(self);\n",
              "</script> "
            ]
          },
          "metadata": {}
        },
        {
          "output_type": "stream",
          "name": "stdout",
          "text": [
            "Saving geoinf-proj-ze-3935.gpkg to geoinf-proj-ze-3935 (1).gpkg\n"
          ]
        }
      ]
    },
    {
      "cell_type": "code",
      "source": [
        "## Couches du gpkg de la ze dans QGIS\n",
        "\n",
        "pyogrio.list_layers(ze_gpkg)"
      ],
      "metadata": {
        "colab": {
          "base_uri": "https://localhost:8080/"
        },
        "id": "zr-_uPKrkuBJ",
        "outputId": "d005ac32-27ce-402a-8af8-fdfbaa2eba64"
      },
      "execution_count": null,
      "outputs": [
        {
          "output_type": "execute_result",
          "data": {
            "text/plain": [
              "array([['ze_3935', 'MultiPolygon'],\n",
              "       ['perimetre_ze_joint', 'Polygon'],\n",
              "       ['polygone', 'Polygon'],\n",
              "       ['perimetre_evaluation', 'Polygon'],\n",
              "       ['geoinfprojze3935__ze_3935', 'MultiPolygon']], dtype=object)"
            ]
          },
          "metadata": {},
          "execution_count": 15
        }
      ]
    },
    {
      "cell_type": "code",
      "source": [
        "## Définition de la zone d'étude\n",
        "\n",
        "ze = gpd.read_file(ze_gpkg, layer='ze_3935')"
      ],
      "metadata": {
        "id": "sMjrk5iilIxH"
      },
      "execution_count": null,
      "outputs": []
    },
    {
      "cell_type": "code",
      "source": [
        "## Zones tampons\n",
        "\n",
        "tamp_500m = ze.buffer(500)\n",
        "tamp_1km = ze.buffer(1000)\n",
        "tamp_5km = ze.buffer(5000)"
      ],
      "metadata": {
        "id": "rjIIOKPZlhEC"
      },
      "execution_count": null,
      "outputs": []
    },
    {
      "cell_type": "code",
      "source": [
        "## Uniformisation des zones tampons\n",
        "tampon_500m = unary_union(tamp_500m)\n",
        "tampon_1km = unary_union(tamp_1km)\n",
        "tampon_5km = unary_union(tamp_5km)"
      ],
      "metadata": {
        "id": "ECx7rXiJo_VJ"
      },
      "execution_count": null,
      "outputs": []
    },
    {
      "cell_type": "code",
      "source": [
        "## Anneaux entre les zones tampons\n",
        "\n",
        "anneau_500m = tampon_500m.difference(tampon_1km)\n",
        "anneau_1km = tampon_1km.difference(tampon_5km)"
      ],
      "metadata": {
        "id": "k6Wtydyvlzo2"
      },
      "execution_count": null,
      "outputs": []
    },
    {
      "cell_type": "code",
      "source": [
        "## téléchargement des couches communales et cantonales\n",
        "\n",
        "from google.colab import files\n",
        "uploaded = files.upload()\n",
        "admin_gpgk = '/content/admin.gpkg'"
      ],
      "metadata": {
        "id": "XTu5h0rumtU5",
        "outputId": "778e57ad-98f5-4ddd-abe6-894b8dcd03de",
        "colab": {
          "base_uri": "https://localhost:8080/",
          "height": 74
        }
      },
      "execution_count": null,
      "outputs": [
        {
          "output_type": "display_data",
          "data": {
            "text/plain": [
              "<IPython.core.display.HTML object>"
            ],
            "text/html": [
              "\n",
              "     <input type=\"file\" id=\"files-4e100441-0898-4955-b621-f8e437751bc0\" name=\"files[]\" multiple disabled\n",
              "        style=\"border:none\" />\n",
              "     <output id=\"result-4e100441-0898-4955-b621-f8e437751bc0\">\n",
              "      Upload widget is only available when the cell has been executed in the\n",
              "      current browser session. Please rerun this cell to enable.\n",
              "      </output>\n",
              "      <script>// Copyright 2017 Google LLC\n",
              "//\n",
              "// Licensed under the Apache License, Version 2.0 (the \"License\");\n",
              "// you may not use this file except in compliance with the License.\n",
              "// You may obtain a copy of the License at\n",
              "//\n",
              "//      http://www.apache.org/licenses/LICENSE-2.0\n",
              "//\n",
              "// Unless required by applicable law or agreed to in writing, software\n",
              "// distributed under the License is distributed on an \"AS IS\" BASIS,\n",
              "// WITHOUT WARRANTIES OR CONDITIONS OF ANY KIND, either express or implied.\n",
              "// See the License for the specific language governing permissions and\n",
              "// limitations under the License.\n",
              "\n",
              "/**\n",
              " * @fileoverview Helpers for google.colab Python module.\n",
              " */\n",
              "(function(scope) {\n",
              "function span(text, styleAttributes = {}) {\n",
              "  const element = document.createElement('span');\n",
              "  element.textContent = text;\n",
              "  for (const key of Object.keys(styleAttributes)) {\n",
              "    element.style[key] = styleAttributes[key];\n",
              "  }\n",
              "  return element;\n",
              "}\n",
              "\n",
              "// Max number of bytes which will be uploaded at a time.\n",
              "const MAX_PAYLOAD_SIZE = 100 * 1024;\n",
              "\n",
              "function _uploadFiles(inputId, outputId) {\n",
              "  const steps = uploadFilesStep(inputId, outputId);\n",
              "  const outputElement = document.getElementById(outputId);\n",
              "  // Cache steps on the outputElement to make it available for the next call\n",
              "  // to uploadFilesContinue from Python.\n",
              "  outputElement.steps = steps;\n",
              "\n",
              "  return _uploadFilesContinue(outputId);\n",
              "}\n",
              "\n",
              "// This is roughly an async generator (not supported in the browser yet),\n",
              "// where there are multiple asynchronous steps and the Python side is going\n",
              "// to poll for completion of each step.\n",
              "// This uses a Promise to block the python side on completion of each step,\n",
              "// then passes the result of the previous step as the input to the next step.\n",
              "function _uploadFilesContinue(outputId) {\n",
              "  const outputElement = document.getElementById(outputId);\n",
              "  const steps = outputElement.steps;\n",
              "\n",
              "  const next = steps.next(outputElement.lastPromiseValue);\n",
              "  return Promise.resolve(next.value.promise).then((value) => {\n",
              "    // Cache the last promise value to make it available to the next\n",
              "    // step of the generator.\n",
              "    outputElement.lastPromiseValue = value;\n",
              "    return next.value.response;\n",
              "  });\n",
              "}\n",
              "\n",
              "/**\n",
              " * Generator function which is called between each async step of the upload\n",
              " * process.\n",
              " * @param {string} inputId Element ID of the input file picker element.\n",
              " * @param {string} outputId Element ID of the output display.\n",
              " * @return {!Iterable<!Object>} Iterable of next steps.\n",
              " */\n",
              "function* uploadFilesStep(inputId, outputId) {\n",
              "  const inputElement = document.getElementById(inputId);\n",
              "  inputElement.disabled = false;\n",
              "\n",
              "  const outputElement = document.getElementById(outputId);\n",
              "  outputElement.innerHTML = '';\n",
              "\n",
              "  const pickedPromise = new Promise((resolve) => {\n",
              "    inputElement.addEventListener('change', (e) => {\n",
              "      resolve(e.target.files);\n",
              "    });\n",
              "  });\n",
              "\n",
              "  const cancel = document.createElement('button');\n",
              "  inputElement.parentElement.appendChild(cancel);\n",
              "  cancel.textContent = 'Cancel upload';\n",
              "  const cancelPromise = new Promise((resolve) => {\n",
              "    cancel.onclick = () => {\n",
              "      resolve(null);\n",
              "    };\n",
              "  });\n",
              "\n",
              "  // Wait for the user to pick the files.\n",
              "  const files = yield {\n",
              "    promise: Promise.race([pickedPromise, cancelPromise]),\n",
              "    response: {\n",
              "      action: 'starting',\n",
              "    }\n",
              "  };\n",
              "\n",
              "  cancel.remove();\n",
              "\n",
              "  // Disable the input element since further picks are not allowed.\n",
              "  inputElement.disabled = true;\n",
              "\n",
              "  if (!files) {\n",
              "    return {\n",
              "      response: {\n",
              "        action: 'complete',\n",
              "      }\n",
              "    };\n",
              "  }\n",
              "\n",
              "  for (const file of files) {\n",
              "    const li = document.createElement('li');\n",
              "    li.append(span(file.name, {fontWeight: 'bold'}));\n",
              "    li.append(span(\n",
              "        `(${file.type || 'n/a'}) - ${file.size} bytes, ` +\n",
              "        `last modified: ${\n",
              "            file.lastModifiedDate ? file.lastModifiedDate.toLocaleDateString() :\n",
              "                                    'n/a'} - `));\n",
              "    const percent = span('0% done');\n",
              "    li.appendChild(percent);\n",
              "\n",
              "    outputElement.appendChild(li);\n",
              "\n",
              "    const fileDataPromise = new Promise((resolve) => {\n",
              "      const reader = new FileReader();\n",
              "      reader.onload = (e) => {\n",
              "        resolve(e.target.result);\n",
              "      };\n",
              "      reader.readAsArrayBuffer(file);\n",
              "    });\n",
              "    // Wait for the data to be ready.\n",
              "    let fileData = yield {\n",
              "      promise: fileDataPromise,\n",
              "      response: {\n",
              "        action: 'continue',\n",
              "      }\n",
              "    };\n",
              "\n",
              "    // Use a chunked sending to avoid message size limits. See b/62115660.\n",
              "    let position = 0;\n",
              "    do {\n",
              "      const length = Math.min(fileData.byteLength - position, MAX_PAYLOAD_SIZE);\n",
              "      const chunk = new Uint8Array(fileData, position, length);\n",
              "      position += length;\n",
              "\n",
              "      const base64 = btoa(String.fromCharCode.apply(null, chunk));\n",
              "      yield {\n",
              "        response: {\n",
              "          action: 'append',\n",
              "          file: file.name,\n",
              "          data: base64,\n",
              "        },\n",
              "      };\n",
              "\n",
              "      let percentDone = fileData.byteLength === 0 ?\n",
              "          100 :\n",
              "          Math.round((position / fileData.byteLength) * 100);\n",
              "      percent.textContent = `${percentDone}% done`;\n",
              "\n",
              "    } while (position < fileData.byteLength);\n",
              "  }\n",
              "\n",
              "  // All done.\n",
              "  yield {\n",
              "    response: {\n",
              "      action: 'complete',\n",
              "    }\n",
              "  };\n",
              "}\n",
              "\n",
              "scope.google = scope.google || {};\n",
              "scope.google.colab = scope.google.colab || {};\n",
              "scope.google.colab._files = {\n",
              "  _uploadFiles,\n",
              "  _uploadFilesContinue,\n",
              "};\n",
              "})(self);\n",
              "</script> "
            ]
          },
          "metadata": {}
        },
        {
          "output_type": "stream",
          "name": "stdout",
          "text": [
            "Saving admin.gpkg to admin.gpkg\n"
          ]
        }
      ]
    },
    {
      "cell_type": "code",
      "source": [
        "## Couches du gpkg canto-communal dans QGIS\n",
        "\n",
        "pyogrio.list_layers(admin_gpgk)"
      ],
      "metadata": {
        "id": "WDSCC1qonTaK",
        "outputId": "ae05814f-b56d-4470-e900-9b9e60a5dd7e",
        "colab": {
          "base_uri": "https://localhost:8080/"
        }
      },
      "execution_count": null,
      "outputs": [
        {
          "output_type": "execute_result",
          "data": {
            "text/plain": [
              "array([['communes', 'MultiPolygon Z'],\n",
              "       ['cantons', 'MultiPolygon Z']], dtype=object)"
            ]
          },
          "metadata": {},
          "execution_count": 24
        }
      ]
    },
    {
      "cell_type": "code",
      "source": [
        "## Définition des communes\n",
        "\n",
        "cmne = gpd.read_file(admin_gpgk, layer='communes')"
      ],
      "metadata": {
        "id": "O4wwvo1enTXn"
      },
      "execution_count": null,
      "outputs": []
    },
    {
      "cell_type": "code",
      "source": [
        "## Dictionnaire et GeoDataFrames tampon\n",
        "\n",
        "zi_buf = {\n",
        "    '500m': tampon_500m,\n",
        "    '1km': tampon_1km,\n",
        "    '5km': tampon_5km\n",
        "}\n",
        "\n",
        "zi_buf_gdf = {\n",
        "    k: gpd.GeoDataFrame(geometry=[poly], crs='EPSG:2056')\n",
        "    for k, poly in zi_buf.items()\n",
        "}"
      ],
      "metadata": {
        "id": "dDoKT8EGnTPh"
      },
      "execution_count": 36,
      "outputs": []
    },
    {
      "cell_type": "code",
      "source": [
        "## Zones tampon communales\n",
        "\n",
        "zi_buf_cmnes = {\n",
        "    k: gpd.overlay(zi_gdf, cmne, how='intersection')\n",
        "    for k, zi_gdf in zi_buf_gdf.items()\n",
        "}"
      ],
      "metadata": {
        "id": "-cmdHizpzyfa"
      },
      "execution_count": 39,
      "outputs": []
    },
    {
      "cell_type": "code",
      "source": [
        "## Vérification\n",
        "\n",
        "zi_buf_gdf['500m']\n",
        "zi_buf_cmnes['500m']"
      ],
      "metadata": {
        "colab": {
          "base_uri": "https://localhost:8080/",
          "height": 516
        },
        "id": "Gusv2FcTz8bz",
        "outputId": "4c032b85-0302-4959-feaa-dd5f1d9a3b99"
      },
      "execution_count": 40,
      "outputs": [
        {
          "output_type": "execute_result",
          "data": {
            "text/plain": [
              "     id                                    uuid datum_aenderung  \\\n",
              "0  1500  {F661E081-0F7D-49AF-BC8F-3BCB066A80EA}      2023-10-24   \n",
              "1  1796  {744A1068-A8FB-4408-B238-8992F5E1AA07}      2023-10-24   \n",
              "2  1954  {90A64C89-AF3E-4247-B337-C41265776989}      2023-10-24   \n",
              "3  2083  {849EDC23-04AA-4A5A-9FC4-FA01A9ECFE3A}      2023-11-08   \n",
              "4  2129  {C29D857E-F9F2-4916-875B-5692D97BD8FD}      2023-10-24   \n",
              "\n",
              "  datum_erstellung  erstellung_jahr  erstellung_monat grund_aenderung  \\\n",
              "0       2008-11-24             2006                 1      Verbessert   \n",
              "1       2008-11-24             2006                 1      Verbessert   \n",
              "2       2008-11-24             2006                 1      Verbessert   \n",
              "3       2008-11-24             2006                 1      Verbessert   \n",
              "4       2008-11-24             2006                 1      Verbessert   \n",
              "\n",
              "    herkunft  herkunft_jahr  herkunft_monat  ...  bezirksnummer  \\\n",
              "0  swisstopo           2024               1  ...         2229.0   \n",
              "1  swisstopo           2024               1  ...         2229.0   \n",
              "2  swisstopo           2024               1  ...         2229.0   \n",
              "3  swisstopo           2024               1  ...         2229.0   \n",
              "4  swisstopo           2024               1  ...         2229.0   \n",
              "\n",
              "   kantonsnummer                   name gem_flaeche  see_flaeche  icc  \\\n",
              "0           22.0               Bussigny       481.0          0.0   CH   \n",
              "1           22.0            Renens (VD)       295.0          0.0   CH   \n",
              "2           22.0  Chavannes-près-Renens       165.0          0.0   CH   \n",
              "3           22.0          Ecublens (VD)       572.0          0.0   CH   \n",
              "4           22.0               Crissier       550.0          0.0   CH   \n",
              "\n",
              "          shn einwohnerzahl  hist_nr  \\\n",
              "0  CH22295624         10365  15651.0   \n",
              "1  CH22295591         21086  14580.0   \n",
              "2  CH22295627          8737  14860.0   \n",
              "3  CH22295635         13118  14721.0   \n",
              "4  CH22295583          9181  14832.0   \n",
              "\n",
              "                                            geometry  \n",
              "0  POLYGON Z ((2532736.987 1155019.221 394.344, 2...  \n",
              "1  MULTIPOLYGON Z (((2534196.813 1154746.639 417....  \n",
              "2  POLYGON Z ((2533980.729 1154334.58 413.017, 25...  \n",
              "3  POLYGON Z ((2533805.512 1154247.947 414.502, 2...  \n",
              "4  POLYGON Z ((2534196.783 1154753.285 427.315, 2...  \n",
              "\n",
              "[5 rows x 25 columns]"
            ],
            "text/html": [
              "\n",
              "  <div id=\"df-c56e2f4f-39e9-4a31-81b3-19c1d1d6bc87\" class=\"colab-df-container\">\n",
              "    <div>\n",
              "<style scoped>\n",
              "    .dataframe tbody tr th:only-of-type {\n",
              "        vertical-align: middle;\n",
              "    }\n",
              "\n",
              "    .dataframe tbody tr th {\n",
              "        vertical-align: top;\n",
              "    }\n",
              "\n",
              "    .dataframe thead th {\n",
              "        text-align: right;\n",
              "    }\n",
              "</style>\n",
              "<table border=\"1\" class=\"dataframe\">\n",
              "  <thead>\n",
              "    <tr style=\"text-align: right;\">\n",
              "      <th></th>\n",
              "      <th>id</th>\n",
              "      <th>uuid</th>\n",
              "      <th>datum_aenderung</th>\n",
              "      <th>datum_erstellung</th>\n",
              "      <th>erstellung_jahr</th>\n",
              "      <th>erstellung_monat</th>\n",
              "      <th>grund_aenderung</th>\n",
              "      <th>herkunft</th>\n",
              "      <th>herkunft_jahr</th>\n",
              "      <th>herkunft_monat</th>\n",
              "      <th>...</th>\n",
              "      <th>bezirksnummer</th>\n",
              "      <th>kantonsnummer</th>\n",
              "      <th>name</th>\n",
              "      <th>gem_flaeche</th>\n",
              "      <th>see_flaeche</th>\n",
              "      <th>icc</th>\n",
              "      <th>shn</th>\n",
              "      <th>einwohnerzahl</th>\n",
              "      <th>hist_nr</th>\n",
              "      <th>geometry</th>\n",
              "    </tr>\n",
              "  </thead>\n",
              "  <tbody>\n",
              "    <tr>\n",
              "      <th>0</th>\n",
              "      <td>1500</td>\n",
              "      <td>{F661E081-0F7D-49AF-BC8F-3BCB066A80EA}</td>\n",
              "      <td>2023-10-24</td>\n",
              "      <td>2008-11-24</td>\n",
              "      <td>2006</td>\n",
              "      <td>1</td>\n",
              "      <td>Verbessert</td>\n",
              "      <td>swisstopo</td>\n",
              "      <td>2024</td>\n",
              "      <td>1</td>\n",
              "      <td>...</td>\n",
              "      <td>2229.0</td>\n",
              "      <td>22.0</td>\n",
              "      <td>Bussigny</td>\n",
              "      <td>481.0</td>\n",
              "      <td>0.0</td>\n",
              "      <td>CH</td>\n",
              "      <td>CH22295624</td>\n",
              "      <td>10365</td>\n",
              "      <td>15651.0</td>\n",
              "      <td>POLYGON Z ((2532736.987 1155019.221 394.344, 2...</td>\n",
              "    </tr>\n",
              "    <tr>\n",
              "      <th>1</th>\n",
              "      <td>1796</td>\n",
              "      <td>{744A1068-A8FB-4408-B238-8992F5E1AA07}</td>\n",
              "      <td>2023-10-24</td>\n",
              "      <td>2008-11-24</td>\n",
              "      <td>2006</td>\n",
              "      <td>1</td>\n",
              "      <td>Verbessert</td>\n",
              "      <td>swisstopo</td>\n",
              "      <td>2024</td>\n",
              "      <td>1</td>\n",
              "      <td>...</td>\n",
              "      <td>2229.0</td>\n",
              "      <td>22.0</td>\n",
              "      <td>Renens (VD)</td>\n",
              "      <td>295.0</td>\n",
              "      <td>0.0</td>\n",
              "      <td>CH</td>\n",
              "      <td>CH22295591</td>\n",
              "      <td>21086</td>\n",
              "      <td>14580.0</td>\n",
              "      <td>MULTIPOLYGON Z (((2534196.813 1154746.639 417....</td>\n",
              "    </tr>\n",
              "    <tr>\n",
              "      <th>2</th>\n",
              "      <td>1954</td>\n",
              "      <td>{90A64C89-AF3E-4247-B337-C41265776989}</td>\n",
              "      <td>2023-10-24</td>\n",
              "      <td>2008-11-24</td>\n",
              "      <td>2006</td>\n",
              "      <td>1</td>\n",
              "      <td>Verbessert</td>\n",
              "      <td>swisstopo</td>\n",
              "      <td>2024</td>\n",
              "      <td>1</td>\n",
              "      <td>...</td>\n",
              "      <td>2229.0</td>\n",
              "      <td>22.0</td>\n",
              "      <td>Chavannes-près-Renens</td>\n",
              "      <td>165.0</td>\n",
              "      <td>0.0</td>\n",
              "      <td>CH</td>\n",
              "      <td>CH22295627</td>\n",
              "      <td>8737</td>\n",
              "      <td>14860.0</td>\n",
              "      <td>POLYGON Z ((2533980.729 1154334.58 413.017, 25...</td>\n",
              "    </tr>\n",
              "    <tr>\n",
              "      <th>3</th>\n",
              "      <td>2083</td>\n",
              "      <td>{849EDC23-04AA-4A5A-9FC4-FA01A9ECFE3A}</td>\n",
              "      <td>2023-11-08</td>\n",
              "      <td>2008-11-24</td>\n",
              "      <td>2006</td>\n",
              "      <td>1</td>\n",
              "      <td>Verbessert</td>\n",
              "      <td>swisstopo</td>\n",
              "      <td>2024</td>\n",
              "      <td>1</td>\n",
              "      <td>...</td>\n",
              "      <td>2229.0</td>\n",
              "      <td>22.0</td>\n",
              "      <td>Ecublens (VD)</td>\n",
              "      <td>572.0</td>\n",
              "      <td>0.0</td>\n",
              "      <td>CH</td>\n",
              "      <td>CH22295635</td>\n",
              "      <td>13118</td>\n",
              "      <td>14721.0</td>\n",
              "      <td>POLYGON Z ((2533805.512 1154247.947 414.502, 2...</td>\n",
              "    </tr>\n",
              "    <tr>\n",
              "      <th>4</th>\n",
              "      <td>2129</td>\n",
              "      <td>{C29D857E-F9F2-4916-875B-5692D97BD8FD}</td>\n",
              "      <td>2023-10-24</td>\n",
              "      <td>2008-11-24</td>\n",
              "      <td>2006</td>\n",
              "      <td>1</td>\n",
              "      <td>Verbessert</td>\n",
              "      <td>swisstopo</td>\n",
              "      <td>2024</td>\n",
              "      <td>1</td>\n",
              "      <td>...</td>\n",
              "      <td>2229.0</td>\n",
              "      <td>22.0</td>\n",
              "      <td>Crissier</td>\n",
              "      <td>550.0</td>\n",
              "      <td>0.0</td>\n",
              "      <td>CH</td>\n",
              "      <td>CH22295583</td>\n",
              "      <td>9181</td>\n",
              "      <td>14832.0</td>\n",
              "      <td>POLYGON Z ((2534196.783 1154753.285 427.315, 2...</td>\n",
              "    </tr>\n",
              "  </tbody>\n",
              "</table>\n",
              "<p>5 rows × 25 columns</p>\n",
              "</div>\n",
              "    <div class=\"colab-df-buttons\">\n",
              "\n",
              "  <div class=\"colab-df-container\">\n",
              "    <button class=\"colab-df-convert\" onclick=\"convertToInteractive('df-c56e2f4f-39e9-4a31-81b3-19c1d1d6bc87')\"\n",
              "            title=\"Convert this dataframe to an interactive table.\"\n",
              "            style=\"display:none;\">\n",
              "\n",
              "  <svg xmlns=\"http://www.w3.org/2000/svg\" height=\"24px\" viewBox=\"0 -960 960 960\">\n",
              "    <path d=\"M120-120v-720h720v720H120Zm60-500h600v-160H180v160Zm220 220h160v-160H400v160Zm0 220h160v-160H400v160ZM180-400h160v-160H180v160Zm440 0h160v-160H620v160ZM180-180h160v-160H180v160Zm440 0h160v-160H620v160Z\"/>\n",
              "  </svg>\n",
              "    </button>\n",
              "\n",
              "  <style>\n",
              "    .colab-df-container {\n",
              "      display:flex;\n",
              "      gap: 12px;\n",
              "    }\n",
              "\n",
              "    .colab-df-convert {\n",
              "      background-color: #E8F0FE;\n",
              "      border: none;\n",
              "      border-radius: 50%;\n",
              "      cursor: pointer;\n",
              "      display: none;\n",
              "      fill: #1967D2;\n",
              "      height: 32px;\n",
              "      padding: 0 0 0 0;\n",
              "      width: 32px;\n",
              "    }\n",
              "\n",
              "    .colab-df-convert:hover {\n",
              "      background-color: #E2EBFA;\n",
              "      box-shadow: 0px 1px 2px rgba(60, 64, 67, 0.3), 0px 1px 3px 1px rgba(60, 64, 67, 0.15);\n",
              "      fill: #174EA6;\n",
              "    }\n",
              "\n",
              "    .colab-df-buttons div {\n",
              "      margin-bottom: 4px;\n",
              "    }\n",
              "\n",
              "    [theme=dark] .colab-df-convert {\n",
              "      background-color: #3B4455;\n",
              "      fill: #D2E3FC;\n",
              "    }\n",
              "\n",
              "    [theme=dark] .colab-df-convert:hover {\n",
              "      background-color: #434B5C;\n",
              "      box-shadow: 0px 1px 3px 1px rgba(0, 0, 0, 0.15);\n",
              "      filter: drop-shadow(0px 1px 2px rgba(0, 0, 0, 0.3));\n",
              "      fill: #FFFFFF;\n",
              "    }\n",
              "  </style>\n",
              "\n",
              "    <script>\n",
              "      const buttonEl =\n",
              "        document.querySelector('#df-c56e2f4f-39e9-4a31-81b3-19c1d1d6bc87 button.colab-df-convert');\n",
              "      buttonEl.style.display =\n",
              "        google.colab.kernel.accessAllowed ? 'block' : 'none';\n",
              "\n",
              "      async function convertToInteractive(key) {\n",
              "        const element = document.querySelector('#df-c56e2f4f-39e9-4a31-81b3-19c1d1d6bc87');\n",
              "        const dataTable =\n",
              "          await google.colab.kernel.invokeFunction('convertToInteractive',\n",
              "                                                    [key], {});\n",
              "        if (!dataTable) return;\n",
              "\n",
              "        const docLinkHtml = 'Like what you see? Visit the ' +\n",
              "          '<a target=\"_blank\" href=https://colab.research.google.com/notebooks/data_table.ipynb>data table notebook</a>'\n",
              "          + ' to learn more about interactive tables.';\n",
              "        element.innerHTML = '';\n",
              "        dataTable['output_type'] = 'display_data';\n",
              "        await google.colab.output.renderOutput(dataTable, element);\n",
              "        const docLink = document.createElement('div');\n",
              "        docLink.innerHTML = docLinkHtml;\n",
              "        element.appendChild(docLink);\n",
              "      }\n",
              "    </script>\n",
              "  </div>\n",
              "\n",
              "\n",
              "<div id=\"df-991b0584-8fa2-44da-96da-8887e0e83c31\">\n",
              "  <button class=\"colab-df-quickchart\" onclick=\"quickchart('df-991b0584-8fa2-44da-96da-8887e0e83c31')\"\n",
              "            title=\"Suggest charts\"\n",
              "            style=\"display:none;\">\n",
              "\n",
              "<svg xmlns=\"http://www.w3.org/2000/svg\" height=\"24px\"viewBox=\"0 0 24 24\"\n",
              "     width=\"24px\">\n",
              "    <g>\n",
              "        <path d=\"M19 3H5c-1.1 0-2 .9-2 2v14c0 1.1.9 2 2 2h14c1.1 0 2-.9 2-2V5c0-1.1-.9-2-2-2zM9 17H7v-7h2v7zm4 0h-2V7h2v10zm4 0h-2v-4h2v4z\"/>\n",
              "    </g>\n",
              "</svg>\n",
              "  </button>\n",
              "\n",
              "<style>\n",
              "  .colab-df-quickchart {\n",
              "      --bg-color: #E8F0FE;\n",
              "      --fill-color: #1967D2;\n",
              "      --hover-bg-color: #E2EBFA;\n",
              "      --hover-fill-color: #174EA6;\n",
              "      --disabled-fill-color: #AAA;\n",
              "      --disabled-bg-color: #DDD;\n",
              "  }\n",
              "\n",
              "  [theme=dark] .colab-df-quickchart {\n",
              "      --bg-color: #3B4455;\n",
              "      --fill-color: #D2E3FC;\n",
              "      --hover-bg-color: #434B5C;\n",
              "      --hover-fill-color: #FFFFFF;\n",
              "      --disabled-bg-color: #3B4455;\n",
              "      --disabled-fill-color: #666;\n",
              "  }\n",
              "\n",
              "  .colab-df-quickchart {\n",
              "    background-color: var(--bg-color);\n",
              "    border: none;\n",
              "    border-radius: 50%;\n",
              "    cursor: pointer;\n",
              "    display: none;\n",
              "    fill: var(--fill-color);\n",
              "    height: 32px;\n",
              "    padding: 0;\n",
              "    width: 32px;\n",
              "  }\n",
              "\n",
              "  .colab-df-quickchart:hover {\n",
              "    background-color: var(--hover-bg-color);\n",
              "    box-shadow: 0 1px 2px rgba(60, 64, 67, 0.3), 0 1px 3px 1px rgba(60, 64, 67, 0.15);\n",
              "    fill: var(--button-hover-fill-color);\n",
              "  }\n",
              "\n",
              "  .colab-df-quickchart-complete:disabled,\n",
              "  .colab-df-quickchart-complete:disabled:hover {\n",
              "    background-color: var(--disabled-bg-color);\n",
              "    fill: var(--disabled-fill-color);\n",
              "    box-shadow: none;\n",
              "  }\n",
              "\n",
              "  .colab-df-spinner {\n",
              "    border: 2px solid var(--fill-color);\n",
              "    border-color: transparent;\n",
              "    border-bottom-color: var(--fill-color);\n",
              "    animation:\n",
              "      spin 1s steps(1) infinite;\n",
              "  }\n",
              "\n",
              "  @keyframes spin {\n",
              "    0% {\n",
              "      border-color: transparent;\n",
              "      border-bottom-color: var(--fill-color);\n",
              "      border-left-color: var(--fill-color);\n",
              "    }\n",
              "    20% {\n",
              "      border-color: transparent;\n",
              "      border-left-color: var(--fill-color);\n",
              "      border-top-color: var(--fill-color);\n",
              "    }\n",
              "    30% {\n",
              "      border-color: transparent;\n",
              "      border-left-color: var(--fill-color);\n",
              "      border-top-color: var(--fill-color);\n",
              "      border-right-color: var(--fill-color);\n",
              "    }\n",
              "    40% {\n",
              "      border-color: transparent;\n",
              "      border-right-color: var(--fill-color);\n",
              "      border-top-color: var(--fill-color);\n",
              "    }\n",
              "    60% {\n",
              "      border-color: transparent;\n",
              "      border-right-color: var(--fill-color);\n",
              "    }\n",
              "    80% {\n",
              "      border-color: transparent;\n",
              "      border-right-color: var(--fill-color);\n",
              "      border-bottom-color: var(--fill-color);\n",
              "    }\n",
              "    90% {\n",
              "      border-color: transparent;\n",
              "      border-bottom-color: var(--fill-color);\n",
              "    }\n",
              "  }\n",
              "</style>\n",
              "\n",
              "  <script>\n",
              "    async function quickchart(key) {\n",
              "      const quickchartButtonEl =\n",
              "        document.querySelector('#' + key + ' button');\n",
              "      quickchartButtonEl.disabled = true;  // To prevent multiple clicks.\n",
              "      quickchartButtonEl.classList.add('colab-df-spinner');\n",
              "      try {\n",
              "        const charts = await google.colab.kernel.invokeFunction(\n",
              "            'suggestCharts', [key], {});\n",
              "      } catch (error) {\n",
              "        console.error('Error during call to suggestCharts:', error);\n",
              "      }\n",
              "      quickchartButtonEl.classList.remove('colab-df-spinner');\n",
              "      quickchartButtonEl.classList.add('colab-df-quickchart-complete');\n",
              "    }\n",
              "    (() => {\n",
              "      let quickchartButtonEl =\n",
              "        document.querySelector('#df-991b0584-8fa2-44da-96da-8887e0e83c31 button');\n",
              "      quickchartButtonEl.style.display =\n",
              "        google.colab.kernel.accessAllowed ? 'block' : 'none';\n",
              "    })();\n",
              "  </script>\n",
              "</div>\n",
              "\n",
              "    </div>\n",
              "  </div>\n"
            ],
            "application/vnd.google.colaboratory.intrinsic+json": {
              "type": "dataframe"
            }
          },
          "metadata": {},
          "execution_count": 40
        }
      ]
    },
    {
      "cell_type": "code",
      "source": [
        "## Affichage des zones\n",
        "\n",
        "zi_buf_gdf['500m'].plot()\n",
        "zi_buf_cmnes['500m'].plot()"
      ],
      "metadata": {
        "colab": {
          "base_uri": "https://localhost:8080/",
          "height": 927
        },
        "id": "fHQwEt7H0Hf2",
        "outputId": "7a5aebda-7cda-4488-bf17-25a6e462260c"
      },
      "execution_count": 41,
      "outputs": [
        {
          "output_type": "execute_result",
          "data": {
            "text/plain": [
              "<Axes: >"
            ]
          },
          "metadata": {},
          "execution_count": 41
        },
        {
          "output_type": "display_data",
          "data": {
            "text/plain": [
              "<Figure size 640x480 with 1 Axes>"
            ],
            "image/png": "[encoded data removed]"
          },
          "metadata": {}
        },
        {
          "output_type": "display_data",
          "data": {
            "text/plain": [
              "<Figure size 640x480 with 1 Axes>"
            ],
            "image/png": "[encoded data removed]"
          },
          "metadata": {}
        }
      ]
    },
    {
      "cell_type": "code",
      "source": [
        "## Télécharger le gpkg avec la population et les emplois\n",
        "from google.colab import files\n",
        "uploaded = files.upload()"
      ],
      "metadata": {
        "colab": {
          "base_uri": "https://localhost:8080/",
          "height": 74
        },
        "id": "qDN2pP590Sqb",
        "outputId": "2f667568-09da-47a4-b7b6-daa4e5ee8b75"
      },
      "execution_count": 42,
      "outputs": [
        {
          "output_type": "display_data",
          "data": {
            "text/plain": [
              "<IPython.core.display.HTML object>"
            ],
            "text/html": [
              "\n",
              "     <input type=\"file\" id=\"files-30865625-c11a-4a24-9aff-28a1114e97fd\" name=\"files[]\" multiple disabled\n",
              "        style=\"border:none\" />\n",
              "     <output id=\"result-30865625-c11a-4a24-9aff-28a1114e97fd\">\n",
              "      Upload widget is only available when the cell has been executed in the\n",
              "      current browser session. Please rerun this cell to enable.\n",
              "      </output>\n",
              "      <script>// Copyright 2017 Google LLC\n",
              "//\n",
              "// Licensed under the Apache License, Version 2.0 (the \"License\");\n",
              "// you may not use this file except in compliance with the License.\n",
              "// You may obtain a copy of the License at\n",
              "//\n",
              "//      http://www.apache.org/licenses/LICENSE-2.0\n",
              "//\n",
              "// Unless required by applicable law or agreed to in writing, software\n",
              "// distributed under the License is distributed on an \"AS IS\" BASIS,\n",
              "// WITHOUT WARRANTIES OR CONDITIONS OF ANY KIND, either express or implied.\n",
              "// See the License for the specific language governing permissions and\n",
              "// limitations under the License.\n",
              "\n",
              "/**\n",
              " * @fileoverview Helpers for google.colab Python module.\n",
              " */\n",
              "(function(scope) {\n",
              "function span(text, styleAttributes = {}) {\n",
              "  const element = document.createElement('span');\n",
              "  element.textContent = text;\n",
              "  for (const key of Object.keys(styleAttributes)) {\n",
              "    element.style[key] = styleAttributes[key];\n",
              "  }\n",
              "  return element;\n",
              "}\n",
              "\n",
              "// Max number of bytes which will be uploaded at a time.\n",
              "const MAX_PAYLOAD_SIZE = 100 * 1024;\n",
              "\n",
              "function _uploadFiles(inputId, outputId) {\n",
              "  const steps = uploadFilesStep(inputId, outputId);\n",
              "  const outputElement = document.getElementById(outputId);\n",
              "  // Cache steps on the outputElement to make it available for the next call\n",
              "  // to uploadFilesContinue from Python.\n",
              "  outputElement.steps = steps;\n",
              "\n",
              "  return _uploadFilesContinue(outputId);\n",
              "}\n",
              "\n",
              "// This is roughly an async generator (not supported in the browser yet),\n",
              "// where there are multiple asynchronous steps and the Python side is going\n",
              "// to poll for completion of each step.\n",
              "// This uses a Promise to block the python side on completion of each step,\n",
              "// then passes the result of the previous step as the input to the next step.\n",
              "function _uploadFilesContinue(outputId) {\n",
              "  const outputElement = document.getElementById(outputId);\n",
              "  const steps = outputElement.steps;\n",
              "\n",
              "  const next = steps.next(outputElement.lastPromiseValue);\n",
              "  return Promise.resolve(next.value.promise).then((value) => {\n",
              "    // Cache the last promise value to make it available to the next\n",
              "    // step of the generator.\n",
              "    outputElement.lastPromiseValue = value;\n",
              "    return next.value.response;\n",
              "  });\n",
              "}\n",
              "\n",
              "/**\n",
              " * Generator function which is called between each async step of the upload\n",
              " * process.\n",
              " * @param {string} inputId Element ID of the input file picker element.\n",
              " * @param {string} outputId Element ID of the output display.\n",
              " * @return {!Iterable<!Object>} Iterable of next steps.\n",
              " */\n",
              "function* uploadFilesStep(inputId, outputId) {\n",
              "  const inputElement = document.getElementById(inputId);\n",
              "  inputElement.disabled = false;\n",
              "\n",
              "  const outputElement = document.getElementById(outputId);\n",
              "  outputElement.innerHTML = '';\n",
              "\n",
              "  const pickedPromise = new Promise((resolve) => {\n",
              "    inputElement.addEventListener('change', (e) => {\n",
              "      resolve(e.target.files);\n",
              "    });\n",
              "  });\n",
              "\n",
              "  const cancel = document.createElement('button');\n",
              "  inputElement.parentElement.appendChild(cancel);\n",
              "  cancel.textContent = 'Cancel upload';\n",
              "  const cancelPromise = new Promise((resolve) => {\n",
              "    cancel.onclick = () => {\n",
              "      resolve(null);\n",
              "    };\n",
              "  });\n",
              "\n",
              "  // Wait for the user to pick the files.\n",
              "  const files = yield {\n",
              "    promise: Promise.race([pickedPromise, cancelPromise]),\n",
              "    response: {\n",
              "      action: 'starting',\n",
              "    }\n",
              "  };\n",
              "\n",
              "  cancel.remove();\n",
              "\n",
              "  // Disable the input element since further picks are not allowed.\n",
              "  inputElement.disabled = true;\n",
              "\n",
              "  if (!files) {\n",
              "    return {\n",
              "      response: {\n",
              "        action: 'complete',\n",
              "      }\n",
              "    };\n",
              "  }\n",
              "\n",
              "  for (const file of files) {\n",
              "    const li = document.createElement('li');\n",
              "    li.append(span(file.name, {fontWeight: 'bold'}));\n",
              "    li.append(span(\n",
              "        `(${file.type || 'n/a'}) - ${file.size} bytes, ` +\n",
              "        `last modified: ${\n",
              "            file.lastModifiedDate ? file.lastModifiedDate.toLocaleDateString() :\n",
              "                                    'n/a'} - `));\n",
              "    const percent = span('0% done');\n",
              "    li.appendChild(percent);\n",
              "\n",
              "    outputElement.appendChild(li);\n",
              "\n",
              "    const fileDataPromise = new Promise((resolve) => {\n",
              "      const reader = new FileReader();\n",
              "      reader.onload = (e) => {\n",
              "        resolve(e.target.result);\n",
              "      };\n",
              "      reader.readAsArrayBuffer(file);\n",
              "    });\n",
              "    // Wait for the data to be ready.\n",
              "    let fileData = yield {\n",
              "      promise: fileDataPromise,\n",
              "      response: {\n",
              "        action: 'continue',\n",
              "      }\n",
              "    };\n",
              "\n",
              "    // Use a chunked sending to avoid message size limits. See b/62115660.\n",
              "    let position = 0;\n",
              "    do {\n",
              "      const length = Math.min(fileData.byteLength - position, MAX_PAYLOAD_SIZE);\n",
              "      const chunk = new Uint8Array(fileData, position, length);\n",
              "      position += length;\n",
              "\n",
              "      const base64 = btoa(String.fromCharCode.apply(null, chunk));\n",
              "      yield {\n",
              "        response: {\n",
              "          action: 'append',\n",
              "          file: file.name,\n",
              "          data: base64,\n",
              "        },\n",
              "      };\n",
              "\n",
              "      let percentDone = fileData.byteLength === 0 ?\n",
              "          100 :\n",
              "          Math.round((position / fileData.byteLength) * 100);\n",
              "      percent.textContent = `${percentDone}% done`;\n",
              "\n",
              "    } while (position < fileData.byteLength);\n",
              "  }\n",
              "\n",
              "  // All done.\n",
              "  yield {\n",
              "    response: {\n",
              "      action: 'complete',\n",
              "    }\n",
              "  };\n",
              "}\n",
              "\n",
              "scope.google = scope.google || {};\n",
              "scope.google.colab = scope.google.colab || {};\n",
              "scope.google.colab._files = {\n",
              "  _uploadFiles,\n",
              "  _uploadFilesContinue,\n",
              "};\n",
              "})(self);\n",
              "</script> "
            ]
          },
          "metadata": {}
        },
        {
          "output_type": "stream",
          "name": "stdout",
          "text": [
            "Saving ofs_geostat.gpkg to ofs_geostat.gpkg\n"
          ]
        }
      ]
    },
    {
      "cell_type": "code",
      "source": [
        "ofs_geostat_gpkg = '/content/ofs_geostat.gpkg'"
      ],
      "metadata": {
        "id": "xi2RWLVl1JHE"
      },
      "execution_count": 45,
      "outputs": []
    },
    {
      "cell_type": "code",
      "source": [
        "## Conversion  couches population et emplois en GDF\n",
        "\n",
        "pop23_gdf = gpd.read_file(ofs_geostat_gpkg, layer='pop_2023')\n",
        "empl22_gdf = gpd.read_file(ofs_geostat_gpkg, layer='empl_2022')\n",
        "\n",
        "print(pop23_gdf)"
      ],
      "metadata": {
        "colab": {
          "base_uri": "https://localhost:8080/"
        },
        "id": "81T92bNd0mHO",
        "outputId": "9e5d972f-3924-4a39-9177-36a9280bb1a8"
      },
      "execution_count": 65,
      "outputs": [
        {
          "output_type": "stream",
          "name": "stdout",
          "text": [
            "     BBTOT    E_KOORD    N_KOORD  BBTOT2                 geometry\n",
            "0        5  2523600.0  1147300.0       5  POINT (2523600 1147300)\n",
            "1        3  2523600.0  1147400.0       3  POINT (2523600 1147400)\n",
            "2       21  2523600.0  1147500.0      21  POINT (2523600 1147500)\n",
            "3      103  2523600.0  1147600.0     103  POINT (2523600 1147600)\n",
            "4      126  2523600.0  1147700.0     126  POINT (2523600 1147700)\n",
            "...    ...        ...        ...     ...                      ...\n",
            "7499    31  2543500.0  1156300.0      31  POINT (2543500 1156300)\n",
            "7500     8  2543500.0  1157500.0       8  POINT (2543500 1157500)\n",
            "7501     3  2543500.0  1164100.0       3  POINT (2543500 1164100)\n",
            "7502     3  2543500.0  1164200.0       3  POINT (2543500 1164200)\n",
            "7503     3  2543500.0  1164300.0       3  POINT (2543500 1164300)\n",
            "\n",
            "[7504 rows x 5 columns]\n"
          ]
        }
      ]
    },
    {
      "cell_type": "code",
      "source": [
        "## Création de la fonction sjoin, qui va associer des points à des polygones\n",
        "\n",
        "def sjoin_summarize(poly_lyr, pts_lyr, pts_colname, poly_newcolname):\n",
        "    \"\"\"\n",
        "    poly_lyr:         la couche des polygones\n",
        "    pts_lyr:          la couche des points\n",
        "    pts_colname:      la colonne sur laquelle il faut faire la somme\n",
        "    poly_newcolname:  le nom de la colonne à créer dans la couche\n",
        "                      des polygones\n",
        "    \"\"\"\n",
        "    # Faire d'abord une jointure spatiale pour associer chaque point à un polygone\n",
        "    sjoin = pts_lyr.sjoin(poly_lyr, how='inner', predicate='within')\n",
        "\n",
        "    # Faire une opération «group by» selon l'index du polygone, et calculer la somme\n",
        "    somme_par_poly = sjoin.groupby(sjoin.index_right)[pts_colname].sum()\n",
        "\n",
        "    # Enregistrer le résultat dans la couche des polygones\n",
        "    poly_lyr[poly_newcolname] = poly_lyr.index.map(somme_par_poly)\n",
        "    return poly_lyr"
      ],
      "metadata": {
        "id": "ROgyUQPm1Ylk"
      },
      "execution_count": 67,
      "outputs": []
    },
    {
      "cell_type": "code",
      "source": [
        "## Fonction sjoin appliquée pour toutes les zones tampons\n",
        "\n",
        "zi_buf_cmnes_500m = sjoin_summarize(zi_buf_cmnes['500m'], pop23_gdf, 'BBTOT2', 'pop_2023_sum')\n",
        "zi_buf_cmnes_500m = sjoin_summarize(zi_buf_cmnes['500m'], empl22_gdf, 'B08EMPT', 'empl_2022_sum')\n",
        "\n",
        "zi_buf_cmnes_1km = sjoin_summarize(zi_buf_cmnes['1km'], pop23_gdf, 'BBTOT2', 'pop_2023_sum')\n",
        "zi_buf_cmnes_1km = sjoin_summarize(zi_buf_cmnes['1km'], empl22_gdf, 'B08EMPT', 'empl_2022_sum')\n",
        "\n",
        "zi_buf_cmnes_5km = sjoin_summarize(zi_buf_cmnes['5km'], pop23_gdf, 'BBTOT2', 'pop_2023_sum')\n",
        "zi_buf_cmnes_5km = sjoin_summarize(zi_buf_cmnes['5km'], empl22_gdf, 'B08EMPT', 'empl_2022_sum')\n"
      ],
      "metadata": {
        "id": "71OOyZCE2K_h"
      },
      "execution_count": 70,
      "outputs": []
    },
    {
      "cell_type": "code",
      "source": [
        "## Vérification des résultats\n",
        "print (zi_buf_cmnes_500m.columns)\n",
        "print (zi_buf_cmnes_1km.columns)\n",
        "print (zi_buf_cmnes_5km.columns)"
      ],
      "metadata": {
        "colab": {
          "base_uri": "https://localhost:8080/"
        },
        "id": "jsoFbq8P5VkL",
        "outputId": "b5b661f9-37d0-42a3-ce71-e1110d71b558"
      },
      "execution_count": 71,
      "outputs": [
        {
          "output_type": "stream",
          "name": "stdout",
          "text": [
            "Index(['id', 'uuid', 'datum_aenderung', 'datum_erstellung', 'erstellung_jahr',\n",
            "       'erstellung_monat', 'grund_aenderung', 'herkunft', 'herkunft_jahr',\n",
            "       'herkunft_monat', 'revision_jahr', 'revision_monat',\n",
            "       'revision_qualitaet', 'objektart', 'bfs_nummer', 'bezirksnummer',\n",
            "       'kantonsnummer', 'name', 'gem_flaeche', 'see_flaeche', 'icc', 'shn',\n",
            "       'einwohnerzahl', 'hist_nr', 'geometry', 'pop_2023_sum',\n",
            "       'empl_2022_sum'],\n",
            "      dtype='object')\n",
            "Index(['id', 'uuid', 'datum_aenderung', 'datum_erstellung', 'erstellung_jahr',\n",
            "       'erstellung_monat', 'grund_aenderung', 'herkunft', 'herkunft_jahr',\n",
            "       'herkunft_monat', 'revision_jahr', 'revision_monat',\n",
            "       'revision_qualitaet', 'objektart', 'bfs_nummer', 'bezirksnummer',\n",
            "       'kantonsnummer', 'name', 'gem_flaeche', 'see_flaeche', 'icc', 'shn',\n",
            "       'einwohnerzahl', 'hist_nr', 'geometry', 'pop_2023_sum',\n",
            "       'empl_2022_sum'],\n",
            "      dtype='object')\n",
            "Index(['id', 'uuid', 'datum_aenderung', 'datum_erstellung', 'erstellung_jahr',\n",
            "       'erstellung_monat', 'grund_aenderung', 'herkunft', 'herkunft_jahr',\n",
            "       'herkunft_monat', 'revision_jahr', 'revision_monat',\n",
            "       'revision_qualitaet', 'objektart', 'bfs_nummer', 'bezirksnummer',\n",
            "       'kantonsnummer', 'name', 'gem_flaeche', 'see_flaeche', 'icc', 'shn',\n",
            "       'einwohnerzahl', 'hist_nr', 'geometry', 'pop_2023_sum',\n",
            "       'empl_2022_sum'],\n",
            "      dtype='object')\n"
          ]
        }
      ]
    },
    {
      "cell_type": "code",
      "source": [
        "## Périmètre des zones tampons, données correspondantes, vérification du résultat\n",
        "zi_buf_cmnes_500m['peri'] = '500m'\n",
        "zi_buf_cmnes_1km['peri'] = '1km'\n",
        "zi_buf_cmnes_5km['peri'] = '5km'\n",
        "data_500m = zi_buf_cmnes_500m[['bfs_nummer', 'name', 'peri', 'pop_2023_sum', 'empl_2022_sum']]\n",
        "data_1km = zi_buf_cmnes_1km[['bfs_nummer', 'name', 'peri', 'pop_2023_sum', 'empl_2022_sum']]\n",
        "data_5km = zi_buf_cmnes_5km[['bfs_nummer', 'name', 'peri', 'pop_2023_sum', 'empl_2022_sum']]\n",
        "print(data_500m.columns)\n",
        "print(data_1km.columns)\n",
        "print(data_5km.columns)"
      ],
      "metadata": {
        "colab": {
          "base_uri": "https://localhost:8080/"
        },
        "id": "eA3T0li05lKo",
        "outputId": "72db7151-1e54-4b0b-e792-1309c50aed49"
      },
      "execution_count": 73,
      "outputs": [
        {
          "output_type": "stream",
          "name": "stdout",
          "text": [
            "Index(['bfs_nummer', 'name', 'peri', 'pop_2023_sum', 'empl_2022_sum'], dtype='object')\n",
            "Index(['bfs_nummer', 'name', 'peri', 'pop_2023_sum', 'empl_2022_sum'], dtype='object')\n",
            "Index(['bfs_nummer', 'name', 'peri', 'pop_2023_sum', 'empl_2022_sum'], dtype='object')\n"
          ]
        }
      ]
    },
    {
      "cell_type": "code",
      "source": [
        "## Changement des valeurs manqueantes (NaN->0)\n",
        "\n",
        "final_data.fillna(0,inplace=True)"
      ],
      "metadata": {
        "id": "K_D_I-BH8fdc"
      },
      "execution_count": 80,
      "outputs": []
    },
    {
      "cell_type": "code",
      "source": [
        "## Concaténation des données\n",
        "\n",
        "final_data = pd.concat([data_500m, data_1km, data_5km], ignore_index=True)"
      ],
      "metadata": {
        "id": "-SGEhlNd8Hqi"
      },
      "execution_count": 81,
      "outputs": []
    },
    {
      "cell_type": "code",
      "source": [
        "## Conversion des colonnes en lignes numériques\n",
        "\n",
        "final_data['pop_2023_sum'] = pd.to_numeric(final_data['pop_2023_sum'], errors='coerce')\n",
        "final_data['empl_2022_sum'] = pd.to_numeric(final_data['empl_2022_sum'], errors='coerce')"
      ],
      "metadata": {
        "id": "2Gi6qONw5vDu"
      },
      "execution_count": 82,
      "outputs": []
    },
    {
      "cell_type": "code",
      "source": [
        "## Vérification avec les 1ères lignes\n",
        "print(final_data.head())\n",
        "print(final_data.dtypes)"
      ],
      "metadata": {
        "id": "Zqw6OBZJ9BiV",
        "outputId": "21d205d8-1773-4360-8c1f-27f1e6c145cb",
        "colab": {
          "base_uri": "https://localhost:8080/"
        }
      },
      "execution_count": 84,
      "outputs": [
        {
          "output_type": "stream",
          "name": "stdout",
          "text": [
            "   bfs_nummer                   name  peri  pop_2023_sum  empl_2022_sum\n",
            "0        5624               Bussigny  500m          21.0         1562.0\n",
            "1        5591            Renens (VD)  500m         804.0          386.0\n",
            "2        5627  Chavannes-près-Renens  500m         205.0          120.0\n",
            "3        5635          Ecublens (VD)  500m        3184.0          777.0\n",
            "4        5583               Crissier  500m        5428.0         4244.0\n",
            "bfs_nummer         int32\n",
            "name              object\n",
            "peri              object\n",
            "pop_2023_sum     float64\n",
            "empl_2022_sum    float64\n",
            "dtype: object\n"
          ]
        }
      ]
    },
    {
      "cell_type": "code",
      "source": [
        "## Calcul des personnes par zone\n",
        "\n",
        "final_data['Njsem'] = final_data['pop_2023_sum'] * 0.3 + final_data['empl_2022_sum'] * 0.8\n",
        "final_data['Nnsem'] = final_data['pop_2023_sum'] * 0.9 + final_data['empl_2022_sum'] * 0.05\n",
        "final_data['Njwe'] = final_data['pop_2023_sum'] * 0.6 + final_data['empl_2022_sum'] * 0.05\n",
        "final_data['Nnwe'] = final_data['pop_2023_sum']"
      ],
      "metadata": {
        "id": "GbHwkCh59OAL"
      },
      "execution_count": 86,
      "outputs": []
    },
    {
      "cell_type": "code",
      "source": [
        "## Sauvegarde dans un fichier CSV\n",
        "\n",
        "final_data.to_csv(\"personnes_par_peri_et_cmne.csv\", index=False)"
      ],
      "metadata": {
        "id": "E_RWMsZl9kx4"
      },
      "execution_count": 87,
      "outputs": []
    },
    {
      "cell_type": "code",
      "source": [
        "## Téléchargement du fichier CSV\n",
        "\n",
        "from google.colab import files\n",
        "files.download(\"personnes_par_peri_et_cmne.csv\")"
      ],
      "metadata": {
        "id": "G_aIFH1-9vrM",
        "outputId": "cbe6a368-8e42-47fd-a692-c83d18bd99ca",
        "colab": {
          "base_uri": "https://localhost:8080/",
          "height": 17
        }
      },
      "execution_count": 88,
      "outputs": [
        {
          "output_type": "display_data",
          "data": {
            "text/plain": [
              "<IPython.core.display.Javascript object>"
            ],
            "application/javascript": [
              "\n",
              "    async function download(id, filename, size) {\n",
              "      if (!google.colab.kernel.accessAllowed) {\n",
              "        return;\n",
              "      }\n",
              "      const div = document.createElement('div');\n",
              "      const label = document.createElement('label');\n",
              "      label.textContent = `Downloading \"${filename}\": `;\n",
              "      div.appendChild(label);\n",
              "      const progress = document.createElement('progress');\n",
              "      progress.max = size;\n",
              "      div.appendChild(progress);\n",
              "      document.body.appendChild(div);\n",
              "\n",
              "      const buffers = [];\n",
              "      let downloaded = 0;\n",
              "\n",
              "      const channel = await google.colab.kernel.comms.open(id);\n",
              "      // Send a message to notify the kernel that we're ready.\n",
              "      channel.send({})\n",
              "\n",
              "      for await (const message of channel.messages) {\n",
              "        // Send a message to notify the kernel that we're ready.\n",
              "        channel.send({})\n",
              "        if (message.buffers) {\n",
              "          for (const buffer of message.buffers) {\n",
              "            buffers.push(buffer);\n",
              "            downloaded += buffer.byteLength;\n",
              "            progress.value = downloaded;\n",
              "          }\n",
              "        }\n",
              "      }\n",
              "      const blob = new Blob(buffers, {type: 'application/binary'});\n",
              "      const a = document.createElement('a');\n",
              "      a.href = window.URL.createObjectURL(blob);\n",
              "      a.download = filename;\n",
              "      div.appendChild(a);\n",
              "      a.click();\n",
              "      div.remove();\n",
              "    }\n",
              "  "
            ]
          },
          "metadata": {}
        },
        {
          "output_type": "display_data",
          "data": {
            "text/plain": [
              "<IPython.core.display.Javascript object>"
            ],
            "application/javascript": [
              "download(\"download_39bb3c7f-43bd-42ee-a173-285864e08a52\", \"personnes_par_peri_et_cmne.csv\", 2664)"
            ]
          },
          "metadata": {}
        }
      ]
    }
  ]
}